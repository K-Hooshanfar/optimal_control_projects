{
 "cells": [
  {
   "cell_type": "code",
   "execution_count": 2,
   "metadata": {},
   "outputs": [],
   "source": [
    "# GSS_obj_func.py\n",
    "\n",
    "def objective_function(x):\n",
    "    # Objective function \n",
    "    return x**4 - 14*x**3 + 60*x**2 - 70*x\n"
   ]
  },
  {
   "cell_type": "code",
   "execution_count": 26,
   "metadata": {},
   "outputs": [],
   "source": [
    "# GS5.py\n",
    "import math\n",
    "\n",
    "def golden_section_search(func, a, b, epsilon):\n",
    "    \"\"\"\n",
    "    Golden Section Search algorithm for optimizing an objective function.\n",
    "\n",
    "    Parameters:\n",
    "    - func: The objective function to be optimized.\n",
    "    - a, b: Initial bounds for the search interval.\n",
    "    - epsilon: Desired precision.\n",
    "\n",
    "    Returns:\n",
    "    - The optimized value of the objective function.\n",
    "    \"\"\"\n",
    "    # Golden ratio\n",
    "    golden_ratio = (1 + math.sqrt(5)) / 2\n",
    "\n",
    "    # Initial interval\n",
    "    x1 = b - (b - a) / golden_ratio\n",
    "    x2 = a + (b - a) / golden_ratio\n",
    "\n",
    "    # Initial function evaluations\n",
    "    f_x1 = func(x1)\n",
    "    f_x2 = func(x2)\n",
    "\n",
    "    # Main loop\n",
    "    while abs(b - a) > epsilon:\n",
    "        if f_x1 < f_x2:\n",
    "            b = x2\n",
    "            x2 = x1\n",
    "            x1 = b - (b - a) / golden_ratio\n",
    "            f_x2 = f_x1\n",
    "            f_x1 = func(x1)\n",
    "        else:\n",
    "            a = x1\n",
    "            x1 = x2\n",
    "            x2 = a + (b - a) / golden_ratio\n",
    "            f_x1 = f_x2\n",
    "            f_x2 = func(x2)\n",
    "\n",
    "    # Return the midpoint of the final interval as the optimized value\n",
    "    return (a + b) / 2\n"
   ]
  },
  {
   "cell_type": "code",
   "execution_count": 27,
   "metadata": {},
   "outputs": [
    {
     "name": "stdout",
     "output_type": "stream",
     "text": [
      "Optimal Point: 0.7983738762488434\n"
     ]
    },
    {
     "data": {
      "image/png": "[encoded data removed]",
      "text/plain": [
       "<Figure size 432x288 with 1 Axes>"
      ]
     },
     "metadata": {
      "needs_background": "light"
     },
     "output_type": "display_data"
    }
   ],
   "source": [
    "# main.py\n",
    "import matplotlib.pyplot as plt\n",
    "import numpy as np\n",
    "\n",
    "# Define the interval [a, b]\n",
    "a = 0\n",
    "b = 2\n",
    "\n",
    "# Set the desired accuracy\n",
    "epsilon = 0.1\n",
    "\n",
    "# Run the Golden Section Search algorithm\n",
    "optimal_point = golden_section_search(objective_function, a, b, epsilon)\n",
    "\n",
    "# Print the result\n",
    "print(\"Optimal Point:\", optimal_point)\n",
    "\n",
    "# Plot the function and the interval with the minimum\n",
    "x_values = np.linspace(0, 2, 100)\n",
    "y_values = objective_function(x_values)\n",
    "\n",
    "plt.plot(x_values, y_values, label='Objective Function')\n",
    "plt.scatter(optimal_point, objective_function(optimal_point), color='red', label='Optimal Point')\n",
    "plt.legend()\n",
    "plt.xlabel('x')\n",
    "plt.ylabel('Objective Function Value')\n",
    "plt.title('Optimization using Golden Section Search')\n",
    "plt.show()\n"
   ]
  },
  {
   "cell_type": "code",
   "execution_count": 28,
   "metadata": {},
   "outputs": [
    {
     "name": "stdout",
     "output_type": "stream",
     "text": [
      "Minimum value: -24.369601567355037\n",
      "Optimal x: 0.7808840645508038\n"
     ]
    }
   ],
   "source": [
    "from scipy.optimize import minimize_scalar\n",
    "\n",
    "# Define the objective function\n",
    "def objective_function(x):\n",
    "    return x**4 - 14*x**3 + 60*x**2 - 70*x\n",
    "\n",
    "# Use the minimize_scalar function to find the minimum\n",
    "result = minimize_scalar(objective_function)\n",
    "\n",
    "# Print the result\n",
    "print(\"Minimum value:\", result.fun)\n",
    "print(\"Optimal x:\", result.x)\n"
   ]
  },
  {
   "cell_type": "code",
   "execution_count": null,
   "metadata": {},
   "outputs": [],
   "source": []
  }
 ],
 "metadata": {
  "kernelspec": {
   "display_name": "Python 3",
   "language": "python",
   "name": "python3"
  },
  "language_info": {
   "codemirror_mode": {
    "name": "ipython",
    "version": 3
   },
   "file_extension": ".py",
   "mimetype": "text/x-python",
   "name": "python",
   "nbconvert_exporter": "python",
   "pygments_lexer": "ipython3",
   "version": "3.8.3"
  }
 },
 "nbformat": 4,
 "nbformat_minor": 4
}
