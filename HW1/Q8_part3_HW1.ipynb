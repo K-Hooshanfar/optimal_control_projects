{
 "cells": [
  {
   "cell_type": "code",
   "execution_count": 3,
   "metadata": {},
   "outputs": [
    {
     "name": "stdout",
     "output_type": "stream",
     "text": [
      "Minimum point (step size = 0.001 ): [-2.59035596 -0.29001159 -0.7208706  -1.93083412]\n",
      "Number of iterations: 1000\n",
      "Minimum point (step size = 1e-05 ): [-3.14391226  0.34023257  1.15636948 -0.51143553]\n",
      "Number of iterations: 1000\n"
     ]
    },
    {
     "data": {
      "image/png": "[encoded data removed]",
      "text/plain": [
       "<Figure size 432x288 with 1 Axes>"
      ]
     },
     "metadata": {
      "needs_background": "light"
     },
     "output_type": "display_data"
    }
   ],
   "source": [
    "import numpy as np\n",
    "import matplotlib.pyplot as plt\n",
    "\n",
    "def f(x):\n",
    "    return (x[0] - 10 * x[1]) ** 2 + 5 * (x[2] - x[3]) ** 2 + (x[1] - 2 * x[2]) ** 4 + 10 * (x[0] - x[3]) ** 4\n",
    "\n",
    "def gradient(x):\n",
    "    grad = np.zeros_like(x)\n",
    "    grad[0] = 2 * (x[0] - 10 * x[1]) * 4 * (x[0] - x[3]) ** 3\n",
    "    grad[1] = -20 * (x[0] - 10 * x[1]) + 4 * (x[1] - 2 * x[2]) ** 3\n",
    "    grad[2] = 10 * (x[2] - x[3]) - 8 * (x[1] - 2 * x[2]) ** 3\n",
    "    grad[3] = -10 * (x[2] - x[3]) - 40 * (x[0] - x[3]) ** 3\n",
    "    return grad\n",
    "\n",
    "def gradient_descent(initial_x, step_size, max_iterations, tolerance):\n",
    "    x = initial_x\n",
    "    iterations = 0\n",
    "    history = []\n",
    "    gradient_norms = []\n",
    "\n",
    "    for i in range(max_iterations):\n",
    "        grad = gradient(x)\n",
    "        x = x - step_size * grad\n",
    "\n",
    "        # Convergence check based on the norm of the gradient\n",
    "        gradient_norm = np.linalg.norm(grad)\n",
    "        gradient_norms.append(gradient_norm)\n",
    "\n",
    "        if gradient_norm < tolerance:\n",
    "            break\n",
    "\n",
    "        # Store the history for contour plotting\n",
    "        history.append(x.copy())\n",
    "        iterations += 1\n",
    "\n",
    "    return x, iterations, history, gradient_norms\n",
    "\n",
    "# Given values\n",
    "initial_x = np.array([1, 2, 2, 2])\n",
    "\n",
    "# Convergence criteria\n",
    "tolerance = 1e-6\n",
    "\n",
    "# Maximum number of iterations\n",
    "max_iterations = 1000\n",
    "\n",
    "# Step sizes\n",
    "step_size1 = 0.001\n",
    "step_size2 = 0.00001\n",
    "\n",
    "# Perform gradient descent with different step sizes\n",
    "min_point1, iterations1, history1, gradient_norms1 = gradient_descent(initial_x, step_size1, max_iterations, tolerance)\n",
    "min_point2, iterations2, history2, gradient_norms2 = gradient_descent(initial_x, step_size2, max_iterations, tolerance)\n",
    "\n",
    "print(\"Minimum point (step size =\", step_size1, \"):\", min_point1)\n",
    "print(\"Number of iterations:\", iterations1)\n",
    "print(\"Minimum point (step size =\", step_size2, \"):\", min_point2)\n",
    "print(\"Number of iterations:\", iterations2)\n",
    "\n",
    "# Plot convergence criteria over iterations\n",
    "plt.figure()\n",
    "min_iterations = min(iterations1, iterations2)\n",
    "plt.plot(range(1, min_iterations + 1), gradient_norms1[:min_iterations], label='Step Size = 0.001')\n",
    "plt.plot(range(1, min_iterations + 1), gradient_norms2[:min_iterations], label='Step Size = 0.01')\n",
    "plt.xlabel('Iterations')\n",
    "plt.ylabel('Gradient Norm')\n",
    "plt.title('Convergence Criteria over Iterations')\n",
    "plt.legend()\n",
    "plt.show()\n"
   ]
  },
  {
   "cell_type": "code",
   "execution_count": null,
   "metadata": {},
   "outputs": [],
   "source": []
  }
 ],
 "metadata": {
  "kernelspec": {
   "display_name": "Python 3",
   "language": "python",
   "name": "python3"
  },
  "language_info": {
   "codemirror_mode": {
    "name": "ipython",
    "version": 3
   },
   "file_extension": ".py",
   "mimetype": "text/x-python",
   "name": "python",
   "nbconvert_exporter": "python",
   "pygments_lexer": "ipython3",
   "version": "3.8.3"
  }
 },
 "nbformat": 4,
 "nbformat_minor": 4
}
